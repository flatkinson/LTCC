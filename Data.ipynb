{
 "cells": [
  {
   "cell_type": "markdown",
   "metadata": {},
   "source": [
    "# L-Type Calcium Channel\n",
    "\n",
    "However, in the case of L-Type Calcium Channel (LTCC), the amount of data available for CACNA1C, the primary isoform of interest, is fairly small. As this is an important target for cardiac safety modelling, it is of interest to examine the effects of relaxing the single-isoform requirement. ChEMBL also includes data for 'protein families': here, either the precise isoform responsible for the activity is not clear and/or the activity is believed to be due to all members of a family. \n",
    "\n",
    "Thus, here we examine data labelled 'Voltage-gated L-type calcium channel' as well as data on all the various L-type calcium channel isoforms available in ChEMBL (CACNA1S and CACNA1D).\n",
    "\n",
    "In addition, data for species other than Human and Rat has been included. Rabbit and Guinea Pig have been important in cardiovascular studies in a way they are not in pharmacology and toxicology in general, and there has been a considerable amount of data generated for these species. Thus, including them could be vital for capturing _e.g._ the full diversity of chemical structures tested in cardiovasular models. It is hoped that this increased coverage will compensate for the risk of increased 'noise' that could accompany increasing the number of species considered."
   ]
  },
  {
   "cell_type": "code",
   "execution_count": 1,
   "metadata": {
    "collapsed": false
   },
   "outputs": [],
   "source": [
    "from sqlalchemy import create_engine\n",
    "\n",
    "import requests\n",
    "\n",
    "import lxml.html\n",
    "\n",
    "import re"
   ]
  },
  {
   "cell_type": "code",
   "execution_count": 2,
   "metadata": {
    "collapsed": true
   },
   "outputs": [],
   "source": [
    "def insert_last_after(df, col):\n",
    "\n",
    "    cols = df.columns.values.tolist()\n",
    "\n",
    "    position = cols.index(col) + 1\n",
    "\n",
    "    return df[cols[:position] + [cols[-1]] + cols[position:-1]]"
   ]
  },
  {
   "cell_type": "code",
   "execution_count": 3,
   "metadata": {
    "collapsed": false
   },
   "outputs": [],
   "source": [
    "# ChEMBL connection...\n",
    "\n",
    "database = 'francis/francis@chempro'\n",
    "\n",
    "engine = create_engine('oracle://' + database.replace('/', ':'))\n",
    "\n",
    "conn = engine.connect()"
   ]
  },
  {
   "cell_type": "markdown",
   "metadata": {},
   "source": [
    "### SQL used to generate table\n",
    "\n",
    "Note the species assignment was done in SQL, but could equally well have been done in Python like the [tissue](#tissue) assignment: see the notebook '[Species](Species.ipynb)' for an example of how it could also be done."
   ]
  },
  {
   "cell_type": "code",
   "execution_count": 4,
   "metadata": {
    "collapsed": false
   },
   "outputs": [
    {
     "name": "stdout",
     "output_type": "stream",
     "text": [
      "drop table TT_LTCC_CURVE_DATA;\n",
      "\n",
      "create table TT_LTCC_CURVE_DATA as\n",
      "select\n",
      "    a.chembl_id as target_chemblid\n",
      "  , a.pref_name\n",
      "  , a.target_type\n",
      "  , a.organism\n",
      "  , case\n",
      "      when (organism = 'Oryctolagus cuniculus' or assay_organism = 'Oryctolagus cuniculus' or regexp_like(description, '(^|\\W)(' || 'rabbit'          || ')(\\W|$)', 'i')) then 'Rabbit'\n",
      "      when (organism = 'Cavia porcellus'       or assay_organism = 'Cavia porcellus'       or regexp_like(description, '(^|\\W)(' || 'guinea pig'      || ')(\\W|$)', 'i')) then 'Guinea Pig'\n",
      "      when (organism = 'Sus scrofa'            or assay_organism = 'Sus scrofa'            or regexp_like(description, '(^|\\W)(' || 'pig|porcine'     || ')(\\W|$)', 'i')) then 'Pig'\n",
      "      when (organism = 'Felis catus'           or assay_organism = 'Felis catus'           or regexp_like(description, '(^|\\W)(' || 'cat|kitten'      || ')(\\W|$)', 'i')) then 'Cat'\n",
      "      when (organism = 'Bos taurus '           or assay_organism = 'Bos taurus'            or regexp_like(description, '(^|\\W)(' || 'cow|bovine|calf' || ')(\\W|$)', 'i')) then 'Cow'\n",
      "      when (organism = 'Rattus norvegicus'     or assay_organism = 'Rattus norvegicus')                                                                                   then 'Rat'\n",
      "      when (organism = 'Homo sapiens'          or assay_organism = 'Homo sapiens')                                                                                        then 'Human'\n",
      "      else 'Other'\n",
      "    end as species\n",
      "  , b.relationship_type\n",
      "  , b.chembl_id as assay_chemblid\n",
      "  , b.description\n",
      "  , b.assay_organism\n",
      "  , h.chembl_id as parent_cmpd_chemblid\n",
      "  , g.chembl_id as cmpd_chemblid\n",
      "  , c.standard_type\n",
      "  , c.standard_relation\n",
      "  , c.standard_value\n",
      "  , c.standard_units\n",
      "  , c.pchembl_value\n",
      "  , c.activity_comment\n",
      "  , c.data_validity_comment\n",
      "  , c.potential_duplicate\n",
      "  , d.compound_key\n",
      "  , c.published_type\n",
      "  , c.published_relation\n",
      "  , c.published_value\n",
      "  , c.published_units\n",
      "  , e.chembl_id as doc_chemblid\n",
      "  , e.pubmed_id\n",
      "  , e.journal || ', v. ' || e.volume || ', p. ' || e.first_page || ' (' || e.year || ')' as reference\n",
      "  , case when pchembl_value >= 5.0 then 1 end as active\n",
      "from\n",
      "       chembl_20_app.target_dictionary a\n",
      "  join chembl_20_app.assays b             on a.tid             = b.tid\n",
      "  join chembl_20_app.activities c         on b.assay_id        = c.assay_id\n",
      "  join chembl_20_app.compound_records d   on c.record_id       = d.record_id\n",
      "  join chembl_20_app.docs e               on c.doc_id          = e.doc_id\n",
      "  join chembl_20_app.molecule_hierarchy f on c.molregno        = f.molregno\n",
      "  join chembl_20_app.chembl_id_lookup g   on f.molregno        = g.entity_id\n",
      "  join chembl_20_app.chembl_id_lookup h   on f.parent_molregno = h.entity_id\n",
      "where\n",
      "    g.entity_type = 'COMPOUND' and h.entity_type = 'COMPOUND'\n",
      "and c.standard_type in ('IC50', 'EC50', 'ED50', 'AC50', 'XC50', 'Ki', 'Kd', 'Potency') -- Dose-response assays\n",
      "and (\n",
      "      (c.standard_units = 'nM' and c.standard_value is not null) -- N.B. Any relation accepted\n",
      "   or regexp_like(c.activity_comment, '(^|\\W)' || '(not active|inactive|no activity|no inhibition|no effect)' || '(\\W|$)', 'i') -- Inactives without numerical value\n",
      ")\n",
      "and lower(a.pref_name) like 'voltage-gated l-type calcium channel%'\n",
      "order by\n",
      "    a.chembl_id\n",
      "  , b.chembl_id\n",
      "  , h.chembl_id\n",
      ";\n"
     ]
    }
   ],
   "source": [
    "print(open('TT_LTCC_CURVE_DATA.sql').read())"
   ]
  },
  {
   "cell_type": "code",
   "execution_count": 5,
   "metadata": {
    "collapsed": false
   },
   "outputs": [
    {
     "data": {
      "text/plain": [
       "(1317, 28)"
      ]
     },
     "execution_count": 5,
     "metadata": {},
     "output_type": "execute_result"
    }
   ],
   "source": [
    "# Read data from Oracle...\n",
    "\n",
    "data = pd.read_sql(\"\"\"\n",
    "select\n",
    "    *\n",
    "from\n",
    "    TT_LTCC_CURVE_DATA a\n",
    "order by\n",
    "    a.species\n",
    "  , a.parent_cmpd_chemblid\n",
    "  , a.active\n",
    "\"\"\", engine)\n",
    "\n",
    "data.shape"
   ]
  },
  {
   "cell_type": "markdown",
   "metadata": {},
   "source": [
    "### Add compound classes \n",
    "\n",
    "See [Compound_Classes](Compound_classes.ipynb) notebook for details."
   ]
  },
  {
   "cell_type": "code",
   "execution_count": 6,
   "metadata": {
    "collapsed": false
   },
   "outputs": [],
   "source": [
    "data = data.merge(pd.read_pickle('compound_class.pkl')[['compound_class']], left_on='parent_cmpd_chemblid', right_index=True)\n",
    "\n",
    "data = insert_last_after(data, 'parent_cmpd_chemblid')"
   ]
  },
  {
   "cell_type": "markdown",
   "metadata": {},
   "source": [
    "<a name='tissue'></a>\n",
    "### Add tissue assignment\n",
    "\n",
    "Tissue taken from assay description where possible. See [Tissues](Tissues.ipynb) notebook for details."
   ]
  },
  {
   "cell_type": "code",
   "execution_count": 7,
   "metadata": {
    "collapsed": true
   },
   "outputs": [],
   "source": [
    "data = data.merge(pd.read_pickle('tissues.pkl'), how='left', left_on='description', right_index=True)\n",
    "\n",
    "data = insert_last_after(data, 'species')\n",
    "\n",
    "data['tissue'].fillna('', inplace=True)"
   ]
  },
  {
   "cell_type": "code",
   "execution_count": 8,
   "metadata": {
    "collapsed": false
   },
   "outputs": [
    {
     "data": {
      "text/html": [
       "<table border=\"1\" class=\"dataframe\">\n",
       "  <thead>\n",
       "    <tr style=\"text-align: right;\">\n",
       "      <th></th>\n",
       "      <th>target_chemblid</th>\n",
       "      <th>pref_name</th>\n",
       "      <th>target_type</th>\n",
       "      <th>organism</th>\n",
       "      <th>species</th>\n",
       "      <th>tissue</th>\n",
       "      <th>relationship_type</th>\n",
       "      <th>assay_chemblid</th>\n",
       "      <th>description</th>\n",
       "      <th>assay_organism</th>\n",
       "      <th>parent_cmpd_chemblid</th>\n",
       "      <th>compound_class</th>\n",
       "      <th>standard_type</th>\n",
       "      <th>standard_relation</th>\n",
       "      <th>standard_value</th>\n",
       "      <th>standard_units</th>\n",
       "      <th>pchembl_value</th>\n",
       "      <th>activity_comment</th>\n",
       "      <th>data_validity_comment</th>\n",
       "      <th>potential_duplicate</th>\n",
       "      <th>cmpd_chemblid</th>\n",
       "      <th>compound_key</th>\n",
       "      <th>published_type</th>\n",
       "      <th>published_relation</th>\n",
       "      <th>published_value</th>\n",
       "      <th>published_units</th>\n",
       "      <th>doc_chemblid</th>\n",
       "      <th>pubmed_id</th>\n",
       "      <th>reference</th>\n",
       "      <th>active</th>\n",
       "    </tr>\n",
       "  </thead>\n",
       "  <tbody>\n",
       "    <tr>\n",
       "      <th>0</th>\n",
       "      <td>CHEMBL1940</td>\n",
       "      <td>Voltage-gated L-type calcium channel alpha-1C subunit</td>\n",
       "      <td>SINGLE PROTEIN</td>\n",
       "      <td>Homo sapiens</td>\n",
       "      <td>Cat</td>\n",
       "      <td>Heart</td>\n",
       "      <td>H</td>\n",
       "      <td>CHEMBL656260</td>\n",
       "      <td>Inhibition of (-)-[3H]- D-888 binding to L-type calcium channels in kitten heart ventricle membranes</td>\n",
       "      <td>Felis catus</td>\n",
       "      <td>CHEMBL138302</td>\n",
       "      <td>PAA</td>\n",
       "      <td>IC50</td>\n",
       "      <td>=</td>\n",
       "      <td>260</td>\n",
       "      <td>nM</td>\n",
       "      <td>6.59</td>\n",
       "      <td>None</td>\n",
       "      <td>None</td>\n",
       "      <td>NaN</td>\n",
       "      <td>CHEMBL138302</td>\n",
       "      <td>2d</td>\n",
       "      <td>IC50</td>\n",
       "      <td>=</td>\n",
       "      <td>0.26</td>\n",
       "      <td>uM</td>\n",
       "      <td>CHEMBL1127038</td>\n",
       "      <td>8474099</td>\n",
       "      <td>J. Med. Chem., v. 36, p. 439 (1993)</td>\n",
       "      <td>1</td>\n",
       "    </tr>\n",
       "    <tr>\n",
       "      <th>1</th>\n",
       "      <td>CHEMBL1940</td>\n",
       "      <td>Voltage-gated L-type calcium channel alpha-1C subunit</td>\n",
       "      <td>SINGLE PROTEIN</td>\n",
       "      <td>Homo sapiens</td>\n",
       "      <td>Cat</td>\n",
       "      <td>Heart</td>\n",
       "      <td>H</td>\n",
       "      <td>CHEMBL656260</td>\n",
       "      <td>Inhibition of (-)-[3H]- D-888 binding to L-type calcium channels in kitten heart ventricle membranes</td>\n",
       "      <td>Felis catus</td>\n",
       "      <td>CHEMBL138302</td>\n",
       "      <td>PAA</td>\n",
       "      <td>IC50</td>\n",
       "      <td>=</td>\n",
       "      <td>390</td>\n",
       "      <td>nM</td>\n",
       "      <td>6.41</td>\n",
       "      <td>None</td>\n",
       "      <td>None</td>\n",
       "      <td>NaN</td>\n",
       "      <td>CHEMBL138302</td>\n",
       "      <td>2a</td>\n",
       "      <td>IC50</td>\n",
       "      <td>=</td>\n",
       "      <td>0.39</td>\n",
       "      <td>uM</td>\n",
       "      <td>CHEMBL1127038</td>\n",
       "      <td>8474099</td>\n",
       "      <td>J. Med. Chem., v. 36, p. 439 (1993)</td>\n",
       "      <td>1</td>\n",
       "    </tr>\n",
       "  </tbody>\n",
       "</table>"
      ],
      "text/plain": [
       "<IPython.core.display.HTML object>"
      ]
     },
     "execution_count": 8,
     "metadata": {},
     "output_type": "execute_result"
    }
   ],
   "source": [
    "HTML(data.head(2).to_html())"
   ]
  },
  {
   "cell_type": "code",
   "execution_count": 9,
   "metadata": {
    "collapsed": true
   },
   "outputs": [],
   "source": [
    "# Save data table...\n",
    "\n",
    "data.to_pickle('data.pkl')"
   ]
  },
  {
   "cell_type": "code",
   "execution_count": 10,
   "metadata": {
    "collapsed": true
   },
   "outputs": [],
   "source": [
    "# # Export to Excel...\n",
    "# \n",
    "# NB '=' in 'standard_relation' column are converted to 0, so export CSV instead for import into Excel.\n",
    "# \n",
    "# data.to_excel('data.xlsx', index=False)"
   ]
  },
  {
   "cell_type": "code",
   "execution_count": 11,
   "metadata": {
    "collapsed": true
   },
   "outputs": [],
   "source": [
    "# Export CSV for Excel...\n",
    "\n",
    "data.to_csv('data.csv', index=False)"
   ]
  }
 ],
 "metadata": {
  "kernelspec": {
   "display_name": "Python 2",
   "language": "python",
   "name": "python2"
  },
  "language_info": {
   "codemirror_mode": {
    "name": "ipython",
    "version": 2
   },
   "file_extension": ".py",
   "mimetype": "text/x-python",
   "name": "python",
   "nbconvert_exporter": "python",
   "pygments_lexer": "ipython2",
   "version": "2.7.10"
  }
 },
 "nbformat": 4,
 "nbformat_minor": 0
}
