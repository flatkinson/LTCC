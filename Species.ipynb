{
 "cells": [
  {
   "cell_type": "markdown",
   "metadata": {},
   "source": [
    "# Species\n",
    "\n",
    "Assign species from organism or assay_organism columns or from assay descriptions."
   ]
  },
  {
   "cell_type": "code",
   "execution_count": 1,
   "metadata": {
    "collapsed": false
   },
   "outputs": [],
   "source": [
    "from itertools import chain, combinations\n",
    "\n",
    "import re"
   ]
  },
  {
   "cell_type": "code",
   "execution_count": 2,
   "metadata": {
    "collapsed": true
   },
   "outputs": [],
   "source": [
    "def insert_last_after(df, col):\n",
    "\n",
    "    cols = df.columns.values.tolist()\n",
    "\n",
    "    position = cols.index(col) + 1\n",
    "\n",
    "    return df[cols[:position] + [cols[-1]] + cols[position:-1]]"
   ]
  },
  {
   "cell_type": "code",
   "execution_count": 3,
   "metadata": {
    "collapsed": false
   },
   "outputs": [
    {
     "data": {
      "text/plain": [
       "(1317, 30)"
      ]
     },
     "execution_count": 3,
     "metadata": {},
     "output_type": "execute_result"
    }
   ],
   "source": [
    "# Load curve data (IC50, Ki, Kd etc)...\n",
    "\n",
    "data = pd.read_pickle('data.pkl')\n",
    "\n",
    "data.shape"
   ]
  },
  {
   "cell_type": "code",
   "execution_count": 4,
   "metadata": {
    "collapsed": false
   },
   "outputs": [
    {
     "data": {
      "text/plain": [
       "135"
      ]
     },
     "execution_count": 4,
     "metadata": {},
     "output_type": "execute_result"
    }
   ],
   "source": [
    "description = data['description'].drop_duplicates()\n",
    "\n",
    "description.size"
   ]
  },
  {
   "cell_type": "code",
   "execution_count": 5,
   "metadata": {
    "collapsed": false
   },
   "outputs": [],
   "source": [
    "queries = [\n",
    "    {\n",
    "          'name':  'Rabbit'\n",
    "        , 'taxon': 'Oryctolagus cuniculus'\n",
    "        , 'terms': ['rabbit']\n",
    "    }\n",
    "    , {\n",
    "          'name':  'Guinea Pig'\n",
    "        , 'taxon': 'Cavia porcellus'\n",
    "        , 'terms': ['guinea pig']\n",
    "    }\n",
    "    , {\n",
    "          'name': 'Pig'\n",
    "        , 'taxon': 'Sus scrofa'\n",
    "        , 'terms': ['pig', 'porcine']\n",
    "    } , {\n",
    "          'name':  'Cat'\n",
    "        , 'taxon': 'Felis catus'\n",
    "        , 'terms': ['cat', 'kitten']\n",
    "    }    , {\n",
    "          'name':  'Cow'\n",
    "        , 'taxon': 'Bos taurus'\n",
    "        , 'terms': ['cow', 'bovine', 'calf']\n",
    "    }    , {\n",
    "          'name':  'Rat'\n",
    "        , 'taxon': 'Rattus norvegicus'\n",
    "        , 'terms': ['rat']\n",
    "    }    , {\n",
    "          'name':  'Human'\n",
    "        , 'taxon': 'Homo sapiens'\n",
    "        , 'terms': ['human']\n",
    "    }\n",
    "]\n",
    "\n",
    "for query in queries: query['pattern'] = r'\\b(?:' + '|'.join(query['terms']) + r')\\b'"
   ]
  },
  {
   "cell_type": "code",
   "execution_count": 6,
   "metadata": {
    "collapsed": true
   },
   "outputs": [],
   "source": [
    "def f(record):\n",
    "    \n",
    "    for query in queries:\n",
    "        \n",
    "        if record['organism'] == query['taxon'] or  record['assay_organism'] == query['taxon'] or re.search(query['pattern'], record['description'], re.I): \n",
    "            \n",
    "            return query['name']\n",
    "        \n",
    "    return 'Other'"
   ]
  },
  {
   "cell_type": "code",
   "execution_count": 7,
   "metadata": {
    "collapsed": false
   },
   "outputs": [],
   "source": [
    "species = data[['organism', 'assay_organism', 'description']].drop_duplicates().reset_index(drop=True)\n",
    "\n",
    "species[u'species2'] = species.apply(f, axis=1)"
   ]
  },
  {
   "cell_type": "code",
   "execution_count": 8,
   "metadata": {
    "collapsed": false
   },
   "outputs": [
    {
     "data": {
      "text/html": [
       "<div style=\"max-height:1000px;max-width:1500px;overflow:auto;\">\n",
       "<table border=\"1\" class=\"dataframe\">\n",
       "  <thead>\n",
       "    <tr style=\"text-align: right;\">\n",
       "      <th></th>\n",
       "      <th>organism</th>\n",
       "      <th>assay_organism</th>\n",
       "      <th>description</th>\n",
       "      <th>species2</th>\n",
       "    </tr>\n",
       "  </thead>\n",
       "  <tbody>\n",
       "    <tr>\n",
       "      <th>0</th>\n",
       "      <td>Homo sapiens</td>\n",
       "      <td>Felis catus</td>\n",
       "      <td>Inhibition of (-)-[3H]- D-888 binding to L-type calcium channels in kitten heart ventricle membranes</td>\n",
       "      <td>Cat</td>\n",
       "    </tr>\n",
       "    <tr>\n",
       "      <th>1</th>\n",
       "      <td>Oryctolagus cuniculus</td>\n",
       "      <td>Oryctolagus cuniculus</td>\n",
       "      <td>Inhibition of [3H]nitrendipine binding to calcium channels in Rabbit cardiac muscle.</td>\n",
       "      <td>Rabbit</td>\n",
       "    </tr>\n",
       "    <tr>\n",
       "      <th>2</th>\n",
       "      <td>Rattus norvegicus</td>\n",
       "      <td>None</td>\n",
       "      <td>Calcium antagonistic activity by measuring [3H]nitrendipine displacement at L-type [Ca2+] channel in rat cortex homogenate</td>\n",
       "      <td>Rat</td>\n",
       "    </tr>\n",
       "    <tr>\n",
       "      <th>3</th>\n",
       "      <td>Rattus norvegicus</td>\n",
       "      <td>None</td>\n",
       "      <td>Inhibition of [3H]nitrendipine binding at L-type [Ca2+] channel in rat cortex homogenate by 50%.</td>\n",
       "      <td>Rat</td>\n",
       "    </tr>\n",
       "    <tr>\n",
       "      <th>4</th>\n",
       "      <td>Rattus norvegicus</td>\n",
       "      <td>Rattus norvegicus</td>\n",
       "      <td>Inhibition of [3H]D-888 binding to L-type [Ca2+] channel of membranes from rat skeletal muscle</td>\n",
       "      <td>Rat</td>\n",
       "    </tr>\n",
       "  </tbody>\n",
       "</table>\n",
       "</div>"
      ],
      "text/plain": [
       "                organism         assay_organism                                                                                                                 description species2\n",
       "0           Homo sapiens            Felis catus                        Inhibition of (-)-[3H]- D-888 binding to L-type calcium channels in kitten heart ventricle membranes      Cat\n",
       "1  Oryctolagus cuniculus  Oryctolagus cuniculus                                        Inhibition of [3H]nitrendipine binding to calcium channels in Rabbit cardiac muscle.   Rabbit\n",
       "2      Rattus norvegicus                   None  Calcium antagonistic activity by measuring [3H]nitrendipine displacement at L-type [Ca2+] channel in rat cortex homogenate      Rat\n",
       "3      Rattus norvegicus                   None                            Inhibition of [3H]nitrendipine binding at L-type [Ca2+] channel in rat cortex homogenate by 50%.      Rat\n",
       "4      Rattus norvegicus      Rattus norvegicus                              Inhibition of [3H]D-888 binding to L-type [Ca2+] channel of membranes from rat skeletal muscle      Rat"
      ]
     },
     "execution_count": 8,
     "metadata": {},
     "output_type": "execute_result"
    }
   ],
   "source": [
    "species.head()"
   ]
  },
  {
   "cell_type": "code",
   "execution_count": 9,
   "metadata": {
    "collapsed": true
   },
   "outputs": [],
   "source": [
    "species.to_pickle('species.pkl')"
   ]
  },
  {
   "cell_type": "code",
   "execution_count": 10,
   "metadata": {
    "collapsed": false
   },
   "outputs": [
    {
     "data": {
      "text/html": [
       "<table border=\"1\" class=\"dataframe\">\n",
       "  <thead>\n",
       "    <tr style=\"text-align: right;\">\n",
       "      <th></th>\n",
       "      <th>target_chemblid</th>\n",
       "      <th>pref_name</th>\n",
       "      <th>target_type</th>\n",
       "      <th>organism</th>\n",
       "      <th>species</th>\n",
       "      <th>species2</th>\n",
       "      <th>tissue</th>\n",
       "      <th>relationship_type</th>\n",
       "      <th>assay_chemblid</th>\n",
       "      <th>description</th>\n",
       "      <th>assay_organism</th>\n",
       "      <th>parent_cmpd_chemblid</th>\n",
       "      <th>compound_class</th>\n",
       "      <th>standard_type</th>\n",
       "      <th>standard_relation</th>\n",
       "      <th>standard_value</th>\n",
       "      <th>standard_units</th>\n",
       "      <th>pchembl_value</th>\n",
       "      <th>activity_comment</th>\n",
       "      <th>data_validity_comment</th>\n",
       "      <th>potential_duplicate</th>\n",
       "      <th>cmpd_chemblid</th>\n",
       "      <th>compound_key</th>\n",
       "      <th>published_type</th>\n",
       "      <th>published_relation</th>\n",
       "      <th>published_value</th>\n",
       "      <th>published_units</th>\n",
       "      <th>doc_chemblid</th>\n",
       "      <th>pubmed_id</th>\n",
       "      <th>reference</th>\n",
       "      <th>active</th>\n",
       "    </tr>\n",
       "  </thead>\n",
       "  <tbody>\n",
       "    <tr>\n",
       "      <th>0</th>\n",
       "      <td>CHEMBL1940</td>\n",
       "      <td>Voltage-gated L-type calcium channel alpha-1C subunit</td>\n",
       "      <td>SINGLE PROTEIN</td>\n",
       "      <td>Homo sapiens</td>\n",
       "      <td>Cat</td>\n",
       "      <td>Cat</td>\n",
       "      <td>Heart</td>\n",
       "      <td>H</td>\n",
       "      <td>CHEMBL656260</td>\n",
       "      <td>Inhibition of (-)-[3H]- D-888 binding to L-type calcium channels in kitten heart ventricle membranes</td>\n",
       "      <td>Felis catus</td>\n",
       "      <td>CHEMBL138302</td>\n",
       "      <td>PAA</td>\n",
       "      <td>IC50</td>\n",
       "      <td>=</td>\n",
       "      <td>260</td>\n",
       "      <td>nM</td>\n",
       "      <td>6.59</td>\n",
       "      <td>None</td>\n",
       "      <td>None</td>\n",
       "      <td>NaN</td>\n",
       "      <td>CHEMBL138302</td>\n",
       "      <td>2d</td>\n",
       "      <td>IC50</td>\n",
       "      <td>=</td>\n",
       "      <td>0.26</td>\n",
       "      <td>uM</td>\n",
       "      <td>CHEMBL1127038</td>\n",
       "      <td>8474099</td>\n",
       "      <td>J. Med. Chem., v. 36, p. 439 (1993)</td>\n",
       "      <td>1</td>\n",
       "    </tr>\n",
       "    <tr>\n",
       "      <th>1</th>\n",
       "      <td>CHEMBL1940</td>\n",
       "      <td>Voltage-gated L-type calcium channel alpha-1C subunit</td>\n",
       "      <td>SINGLE PROTEIN</td>\n",
       "      <td>Homo sapiens</td>\n",
       "      <td>Cat</td>\n",
       "      <td>Cat</td>\n",
       "      <td>Heart</td>\n",
       "      <td>H</td>\n",
       "      <td>CHEMBL656260</td>\n",
       "      <td>Inhibition of (-)-[3H]- D-888 binding to L-type calcium channels in kitten heart ventricle membranes</td>\n",
       "      <td>Felis catus</td>\n",
       "      <td>CHEMBL138302</td>\n",
       "      <td>PAA</td>\n",
       "      <td>IC50</td>\n",
       "      <td>=</td>\n",
       "      <td>390</td>\n",
       "      <td>nM</td>\n",
       "      <td>6.41</td>\n",
       "      <td>None</td>\n",
       "      <td>None</td>\n",
       "      <td>NaN</td>\n",
       "      <td>CHEMBL138302</td>\n",
       "      <td>2a</td>\n",
       "      <td>IC50</td>\n",
       "      <td>=</td>\n",
       "      <td>0.39</td>\n",
       "      <td>uM</td>\n",
       "      <td>CHEMBL1127038</td>\n",
       "      <td>8474099</td>\n",
       "      <td>J. Med. Chem., v. 36, p. 439 (1993)</td>\n",
       "      <td>1</td>\n",
       "    </tr>\n",
       "    <tr>\n",
       "      <th>2</th>\n",
       "      <td>CHEMBL1940</td>\n",
       "      <td>Voltage-gated L-type calcium channel alpha-1C subunit</td>\n",
       "      <td>SINGLE PROTEIN</td>\n",
       "      <td>Homo sapiens</td>\n",
       "      <td>Cat</td>\n",
       "      <td>Cat</td>\n",
       "      <td>Heart</td>\n",
       "      <td>H</td>\n",
       "      <td>CHEMBL656260</td>\n",
       "      <td>Inhibition of (-)-[3H]- D-888 binding to L-type calcium channels in kitten heart ventricle membranes</td>\n",
       "      <td>Felis catus</td>\n",
       "      <td>CHEMBL138302</td>\n",
       "      <td>PAA</td>\n",
       "      <td>IC50</td>\n",
       "      <td>=</td>\n",
       "      <td>500</td>\n",
       "      <td>nM</td>\n",
       "      <td>6.30</td>\n",
       "      <td>None</td>\n",
       "      <td>None</td>\n",
       "      <td>NaN</td>\n",
       "      <td>CHEMBL138302</td>\n",
       "      <td>2c</td>\n",
       "      <td>IC50</td>\n",
       "      <td>=</td>\n",
       "      <td>0.50</td>\n",
       "      <td>uM</td>\n",
       "      <td>CHEMBL1127038</td>\n",
       "      <td>8474099</td>\n",
       "      <td>J. Med. Chem., v. 36, p. 439 (1993)</td>\n",
       "      <td>1</td>\n",
       "    </tr>\n",
       "    <tr>\n",
       "      <th>3</th>\n",
       "      <td>CHEMBL1940</td>\n",
       "      <td>Voltage-gated L-type calcium channel alpha-1C subunit</td>\n",
       "      <td>SINGLE PROTEIN</td>\n",
       "      <td>Homo sapiens</td>\n",
       "      <td>Cat</td>\n",
       "      <td>Cat</td>\n",
       "      <td>Heart</td>\n",
       "      <td>H</td>\n",
       "      <td>CHEMBL656260</td>\n",
       "      <td>Inhibition of (-)-[3H]- D-888 binding to L-type calcium channels in kitten heart ventricle membranes</td>\n",
       "      <td>Felis catus</td>\n",
       "      <td>CHEMBL138302</td>\n",
       "      <td>PAA</td>\n",
       "      <td>IC50</td>\n",
       "      <td>=</td>\n",
       "      <td>270</td>\n",
       "      <td>nM</td>\n",
       "      <td>6.57</td>\n",
       "      <td>None</td>\n",
       "      <td>None</td>\n",
       "      <td>NaN</td>\n",
       "      <td>CHEMBL138302</td>\n",
       "      <td>2b</td>\n",
       "      <td>IC50</td>\n",
       "      <td>=</td>\n",
       "      <td>0.27</td>\n",
       "      <td>uM</td>\n",
       "      <td>CHEMBL1127038</td>\n",
       "      <td>8474099</td>\n",
       "      <td>J. Med. Chem., v. 36, p. 439 (1993)</td>\n",
       "      <td>1</td>\n",
       "    </tr>\n",
       "    <tr>\n",
       "      <th>4</th>\n",
       "      <td>CHEMBL1940</td>\n",
       "      <td>Voltage-gated L-type calcium channel alpha-1C subunit</td>\n",
       "      <td>SINGLE PROTEIN</td>\n",
       "      <td>Homo sapiens</td>\n",
       "      <td>Cat</td>\n",
       "      <td>Cat</td>\n",
       "      <td>Heart</td>\n",
       "      <td>H</td>\n",
       "      <td>CHEMBL656260</td>\n",
       "      <td>Inhibition of (-)-[3H]- D-888 binding to L-type calcium channels in kitten heart ventricle membranes</td>\n",
       "      <td>Felis catus</td>\n",
       "      <td>CHEMBL343771</td>\n",
       "      <td>PAA</td>\n",
       "      <td>IC50</td>\n",
       "      <td>=</td>\n",
       "      <td>480</td>\n",
       "      <td>nM</td>\n",
       "      <td>6.32</td>\n",
       "      <td>None</td>\n",
       "      <td>None</td>\n",
       "      <td>NaN</td>\n",
       "      <td>CHEMBL343771</td>\n",
       "      <td>7a</td>\n",
       "      <td>IC50</td>\n",
       "      <td>=</td>\n",
       "      <td>0.48</td>\n",
       "      <td>uM</td>\n",
       "      <td>CHEMBL1127038</td>\n",
       "      <td>8474099</td>\n",
       "      <td>J. Med. Chem., v. 36, p. 439 (1993)</td>\n",
       "      <td>1</td>\n",
       "    </tr>\n",
       "  </tbody>\n",
       "</table>"
      ],
      "text/plain": [
       "<IPython.core.display.HTML object>"
      ]
     },
     "execution_count": 10,
     "metadata": {},
     "output_type": "execute_result"
    }
   ],
   "source": [
    "# Merge with main data table...\n",
    "\n",
    "data = insert_last_after(data.merge(species), 'species')\n",
    "\n",
    "HTML(data.head().to_html())"
   ]
  },
  {
   "cell_type": "code",
   "execution_count": 11,
   "metadata": {
    "collapsed": false
   },
   "outputs": [
    {
     "data": {
      "text/plain": [
       "0"
      ]
     },
     "execution_count": 11,
     "metadata": {},
     "output_type": "execute_result"
    }
   ],
   "source": [
    "# Check there are no differences with the assignment performed via SQL...\n",
    "\n",
    "data[data.species != data.species2].shape[0]"
   ]
  }
 ],
 "metadata": {
  "kernelspec": {
   "display_name": "Python 2",
   "language": "python",
   "name": "python2"
  },
  "language_info": {
   "codemirror_mode": {
    "name": "ipython",
    "version": 2
   },
   "file_extension": ".py",
   "mimetype": "text/x-python",
   "name": "python",
   "nbconvert_exporter": "python",
   "pygments_lexer": "ipython2",
   "version": "2.7.10"
  }
 },
 "nbformat": 4,
 "nbformat_minor": 0
}
