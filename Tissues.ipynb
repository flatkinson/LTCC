{
 "cells": [
  {
   "cell_type": "markdown",
   "metadata": {},
   "source": [
    "# Tissues\n",
    "\n",
    "Assign tissue from assay descriptions, where possible."
   ]
  },
  {
   "cell_type": "code",
   "execution_count": 1,
   "metadata": {
    "collapsed": true
   },
   "outputs": [],
   "source": [
    "from itertools import chain, combinations"
   ]
  },
  {
   "cell_type": "code",
   "execution_count": 2,
   "metadata": {
    "collapsed": true
   },
   "outputs": [],
   "source": [
    "def insert_last_after(df, col):\n",
    "\n",
    "    cols = data.columns.values.tolist()\n",
    "\n",
    "    position = cols.index(col) + 1\n",
    "\n",
    "    return df[cols[:position] + [cols[-1]] + cols[position:-1]]"
   ]
  },
  {
   "cell_type": "code",
   "execution_count": 3,
   "metadata": {
    "collapsed": false
   },
   "outputs": [
    {
     "data": {
      "text/plain": [
       "(1317, 29)"
      ]
     },
     "execution_count": 3,
     "metadata": {},
     "output_type": "execute_result"
    }
   ],
   "source": [
    "# Load curve data (IC50, Ki, Kd etc)...\n",
    "\n",
    "data = pd.read_pickle('data.pkl')\n",
    "\n",
    "data = data.loc[:, data.columns.values != 'tissue'] # Make sure 'tissue' column, if already present, is not included\n",
    "\n",
    "data.shape"
   ]
  },
  {
   "cell_type": "code",
   "execution_count": 4,
   "metadata": {
    "collapsed": false
   },
   "outputs": [
    {
     "data": {
      "text/plain": [
       "135"
      ]
     },
     "execution_count": 4,
     "metadata": {},
     "output_type": "execute_result"
    }
   ],
   "source": [
    "description = data['description'].drop_duplicates()\n",
    "\n",
    "description.size"
   ]
  },
  {
   "cell_type": "code",
   "execution_count": 5,
   "metadata": {
    "collapsed": false
   },
   "outputs": [],
   "source": [
    "terms = {\n",
    "      'Brain':           ['brain', 'cortex', 'cortical', 'cerebral', 'cerebrum', 'neuron', 'neuronal', 'ganglion']\n",
    "    , 'Heart':           ['heart', 'cardiac', 'myocardium', 'myocardial', 'myocytes', 'ventricle', 'atrium', 'atrial'] # 'verapamil', 'diltiazem'\n",
    "    , 'Smooth Muscle':   ['smooth muscle', 'artery', 'aortic', 'aorta', 'ileum'] # 'nitrendipine', 'dihydropyridine', 'DHP'\n",
    "    , 'Skeletal Muscle': ['skeletal muscle', 'striated muscle']\n",
    "    , 'Secretory':       ['pituitary', 'GH4C1']\n",
    "}\n",
    "\n",
    "hits = {x: description[description.str.contains(r'\\b(?:' + '|'.join(y) + r')\\b', case=False)].tolist() for x, y in terms.items()}"
   ]
  },
  {
   "cell_type": "code",
   "execution_count": 6,
   "metadata": {
    "collapsed": false
   },
   "outputs": [
    {
     "data": {
      "text/plain": [
       "54"
      ]
     },
     "execution_count": 6,
     "metadata": {},
     "output_type": "execute_result"
    }
   ],
   "source": [
    "# Descriptions unmatched...\n",
    "\n",
    "description.size - len(set(chain.from_iterable(hits.values())))"
   ]
  },
  {
   "cell_type": "code",
   "execution_count": 7,
   "metadata": {
    "collapsed": false
   },
   "outputs": [
    {
     "data": {
      "text/plain": [
       "336                                                 Reduction in amplitude of calcium-dependent slow-response action potential by blocking voltage sensitive calcium channel\n",
       "144     Inhibition of human Cav1.3 channel in human SH-SY5Y cells assessed as 70 mM K+ induced calcium elevation compound treated 15 mins before stimulus by Fluo-4/AM assay\n",
       "810                                                                                                   Displacement of [3H]nitrendipine from calcium channel receptors (CCRs)\n",
       "811                                                                                                             Inhibitory constant against calcium channel receptors (CCRs)\n",
       "813                                                                                                           Displacement of [3H]nitrendipine from calcium channel receptor\n",
       "469                                           Antagonist activity at rabbit voltage-dependent L-type calcium channel Cav1.2alpha-1C expressed in HEK293 cells by FLIPR assay\n",
       "1042                                             Antagonist activity at rat voltage-dependent L-type calcium channel Cav1.3alpha-1D expressed in HEK293 cells by FLIPR assay\n",
       "125                                                                                                                                       Inhibition of L-type Ca+2 channels\n",
       "126                                                                                                           Binding affinity against L-type calcium channel verapamil site\n",
       "135                                                   Antagonistic activity at L-type calcium channel by displacement of [3H]diltiazem and enhanced [3H]nitrendipine binding\n",
       "136                                                                                                                         Displacement of [3H]-diltiazem from human CaV1.2\n",
       "137                                                                 Inhibition of L-type Cav1.2 at -80 mV holding potential by tandard voltage-clamp electrophysiology assay\n",
       "138                                                                                                                                                     Inhibition of Cav1.2\n",
       "140                                                                                                                                     Inhibition of Cav1.2 calcium channel\n",
       "143                                                                                                                                               Inhibition of human Cav1.2\n",
       "145                                                                                                                   Inhibitory concentration against L-type [Ca2+] channel\n",
       "146                                                                                                                  Inhibition of CaV1.2 ion channel by voltage clamp assay\n",
       "155                                                                                                                               Binding affinity to L type calcium channel\n",
       "156                                                                                                                   Binding affinity to DHP site of L type calcium channel\n",
       "157                                                                                                             Binding affinity to diltiazem site of L type calcium channel\n",
       "158                                                                                                                                    Inhibition of Cav1.2 (unknown origin)\n",
       "160                                                                                                                      Inhibition of L-type calcium channel by FLIPR assay\n",
       "163                                                                                    Inhibition of Cav1.2 assessed as inhibition of calcium flux by cell based FLIPR assay\n",
       "164                                                  Agonist activity at L-type Cav1.3 expressed in tsA201 cell assessed as calcium current by whole-cell patch clamp method\n",
       "165                                                               Inhibition of calcium channel Cav1.2 (unknown origin) expressed in CHO cells by IONWORKS patch clamp assay\n",
       "166                                                                                                                                    Inhibition of CaV1.2 (unknown origin)\n",
       "167                                                                             Inhibition of CaV1.2 channel (unknown origin) by patch express-based electrophysiology assay\n",
       "169                                                                                                                            Inhibition of Cav1.2 channel (unknown origin)\n",
       "170                                                                    Inhibition of human Cav 1.2 ion channel expressed in HEK293 cells by whole-cell patch clamp technique\n",
       "172                                                                                                Displacement of [3H]diltiazem from human Cav1.2 expressed in HEK293 cells\n",
       "174                                                                                                                       Inhibition of diltiazem binding to calcium channel\n",
       "175                                              Inhibition of L-type calcium channel subunit-1C (unknown origin) expressed in HEK293 cells by whole-cell patch clamp method\n",
       "206                                                                                                                           Inhibition of binding to L-type [Ca2+] channel\n",
       "208                                                                                                             Binding affinity at diltiazem site of L type calcium channel\n",
       "211                                                                 Inhibition of verapamil sensitive L type calcium channel by radioligand cellular uptake inhibition assay\n",
       "212                                                                 Inhibition of diltiazem sensitive L type calcium channel by radioligand cellular uptake inhibition assay\n",
       "214                                                                                                                                              Activity at Cav 1.2 channel\n",
       "215                                                  Inhibition of human L-type Cav1.2 expressed in HEK293 cells at -100mV holding potential by whole cell patch clamp assay\n",
       "221                                                                                                                                            Inhibition of Cav 1.2 channel\n",
       "248                                                                                                     Inhibition of Cav1.2 expressed in CHO cells by patch-clamp technique\n",
       "249                                                                                                     Inhibition of Cav1.3 expressed in CHO cells by patch-clamp technique\n",
       "266                  Antagonist activity at rabbit Cav1.2 expressed in HEK293 cells assessed as inhibition of voltage pulse-induced calcium current by FLIPR calcium 4 assay\n",
       "543                     Antagonist activity at rat Cav1.3 expressed in HEK293 cells assessed as inhibition of voltage pulse-induced calcium current by FLIPR calcium 4 assay\n",
       "344                                                                                   Antagonist activity at rabbit CaV1.2alpha1C transfected in HEK293 cells by FLIPR assay\n",
       "822                                                                                      Antagonist activity at rat CaV1.3alpha1D transfected in HEK293 cells by FLIPR assay\n",
       "698                                                                                                                      Binding affinity against rat L-type calcium channel\n",
       "737                                                                                                                                                 Inhibition of rat CaV1.2\n",
       "785                                                                                                       Displacement of verapamil from L-type calcium channel binding site\n",
       "786                                                                                                       Displacement of diltiazem from L-type calcium channel binding site\n",
       "787                                                                                                             Displacement of DHP from L-type calcium channel binding site\n",
       "792                                                                  Affinity to bind dihydropyridine receptor (DHP receptor) by inhibiting the radioligand [3H]nitrendipine\n",
       "1162                                                                                      Displacement of dihydropyridine (DHP) from the L-type calcium channel binding site\n",
       "1192                                                                                                                          Binding affinity for rat L-type [Ca2+] channel\n",
       "1311                                                                                                Inhibition of [3H]nitrendipine binding to rat L-type Ca-channel receptor\n",
       "Name: description, dtype: object"
      ]
     },
     "execution_count": 7,
     "metadata": {},
     "output_type": "execute_result"
    }
   ],
   "source": [
    "description[~description.isin(set(chain.from_iterable(hits.values())))]"
   ]
  },
  {
   "cell_type": "code",
   "execution_count": 8,
   "metadata": {
    "collapsed": false
   },
   "outputs": [
    {
     "data": {
      "text/plain": [
       "[]"
      ]
     },
     "execution_count": 8,
     "metadata": {},
     "output_type": "execute_result"
    }
   ],
   "source": [
    "# Overlaps...\n",
    "\n",
    "[(x, y, n) for x, y, n in ((x, y, len(set(hits[x]).intersection(set(hits[y])))) for x, y in combinations(terms.keys(), 2)) if n > 0]"
   ]
  },
  {
   "cell_type": "code",
   "execution_count": 9,
   "metadata": {
    "collapsed": false
   },
   "outputs": [
    {
     "data": {
      "text/html": [
       "<div style=\"max-height:1000px;max-width:1500px;overflow:auto;\">\n",
       "<table border=\"1\" class=\"dataframe\">\n",
       "  <thead>\n",
       "    <tr style=\"text-align: right;\">\n",
       "      <th></th>\n",
       "      <th>tissue</th>\n",
       "    </tr>\n",
       "    <tr>\n",
       "      <th>description</th>\n",
       "      <th></th>\n",
       "    </tr>\n",
       "  </thead>\n",
       "  <tbody>\n",
       "    <tr>\n",
       "      <th>Calcium antagonistic activity by measuring [3H]nitrendipine displacement at L-type [Ca2+] channel in rat cortex homogenate</th>\n",
       "      <td>Brain</td>\n",
       "    </tr>\n",
       "    <tr>\n",
       "      <th>Inhibition of [3H]nitrendipine binding at L-type [Ca2+] channel in rat cortex homogenate by 50%.</th>\n",
       "      <td>Brain</td>\n",
       "    </tr>\n",
       "    <tr>\n",
       "      <th>Ability to inhibit [3H]nitrendipine binding to the calcium channel receptor(CCR) in rat cerebral cortex homogenate.</th>\n",
       "      <td>Brain</td>\n",
       "    </tr>\n",
       "    <tr>\n",
       "      <th>Displacement of [3H]desmethoxy-verapamil from L-type calcium channel of bovine frontal cortex membranes</th>\n",
       "      <td>Brain</td>\n",
       "    </tr>\n",
       "    <tr>\n",
       "      <th>Displacement of [3H]nitrendipine from L-type calcium channel of bovine frontal cortex membranes.</th>\n",
       "      <td>Brain</td>\n",
       "    </tr>\n",
       "  </tbody>\n",
       "</table>\n",
       "</div>"
      ],
      "text/plain": [
       "                                                                                                                           tissue\n",
       "description                                                                                                                      \n",
       "Calcium antagonistic activity by measuring [3H]nitrendipine displacement at L-type [Ca2+] channel in rat cortex homogenate  Brain\n",
       "Inhibition of [3H]nitrendipine binding at L-type [Ca2+] channel in rat cortex homogenate by 50%.                            Brain\n",
       "Ability to inhibit [3H]nitrendipine binding to the calcium channel receptor(CCR) in rat cerebral cortex homogenate.         Brain\n",
       "Displacement of [3H]desmethoxy-verapamil from L-type calcium channel of bovine frontal cortex membranes                     Brain\n",
       "Displacement of [3H]nitrendipine from L-type calcium channel of bovine frontal cortex membranes.                            Brain"
      ]
     },
     "execution_count": 9,
     "metadata": {},
     "output_type": "execute_result"
    }
   ],
   "source": [
    "tissue = pd.DataFrame(list(chain.from_iterable(((y, x) for y in hits[x]) for x in hits.keys())), columns=[u'description', u'tissue']).set_index(u'description')\n",
    "\n",
    "tissue.head()"
   ]
  },
  {
   "cell_type": "code",
   "execution_count": 10,
   "metadata": {
    "collapsed": false
   },
   "outputs": [
    {
     "data": {
      "text/plain": [
       "(135, 81)"
      ]
     },
     "execution_count": 10,
     "metadata": {},
     "output_type": "execute_result"
    }
   ],
   "source": [
    "description.size, tissue.shape[0]"
   ]
  },
  {
   "cell_type": "code",
   "execution_count": 11,
   "metadata": {
    "collapsed": true
   },
   "outputs": [],
   "source": [
    "# Save...\n",
    "\n",
    "tissue.to_pickle('tissues.pkl')"
   ]
  },
  {
   "cell_type": "markdown",
   "metadata": {},
   "source": [
    "### Merging with data\n",
    "\n",
    "Investigate merging the tissue assignments with the main data table."
   ]
  },
  {
   "cell_type": "code",
   "execution_count": 12,
   "metadata": {
    "collapsed": false
   },
   "outputs": [
    {
     "data": {
      "text/plain": [
       "(1317, 30)"
      ]
     },
     "execution_count": 12,
     "metadata": {},
     "output_type": "execute_result"
    }
   ],
   "source": [
    "data = data.merge(tissue, how='left', left_on='description', right_index=True)\n",
    "\n",
    "data = insert_last_after(data, 'species')\n",
    "\n",
    "data.shape"
   ]
  },
  {
   "cell_type": "code",
   "execution_count": 15,
   "metadata": {
    "collapsed": false
   },
   "outputs": [
    {
     "data": {
      "text/html": [
       "<table border=\"1\" class=\"dataframe\">\n",
       "  <thead>\n",
       "    <tr style=\"text-align: right;\">\n",
       "      <th></th>\n",
       "      <th>target_chemblid</th>\n",
       "      <th>pref_name</th>\n",
       "      <th>target_type</th>\n",
       "      <th>organism</th>\n",
       "      <th>species</th>\n",
       "      <th>tissue</th>\n",
       "      <th>relationship_type</th>\n",
       "      <th>assay_chemblid</th>\n",
       "      <th>description</th>\n",
       "      <th>assay_organism</th>\n",
       "      <th>parent_cmpd_chemblid</th>\n",
       "      <th>compound_class</th>\n",
       "      <th>standard_type</th>\n",
       "      <th>standard_relation</th>\n",
       "      <th>standard_value</th>\n",
       "      <th>standard_units</th>\n",
       "      <th>pchembl_value</th>\n",
       "      <th>activity_comment</th>\n",
       "      <th>data_validity_comment</th>\n",
       "      <th>potential_duplicate</th>\n",
       "      <th>cmpd_chemblid</th>\n",
       "      <th>compound_key</th>\n",
       "      <th>published_type</th>\n",
       "      <th>published_relation</th>\n",
       "      <th>published_value</th>\n",
       "      <th>published_units</th>\n",
       "      <th>doc_chemblid</th>\n",
       "      <th>pubmed_id</th>\n",
       "      <th>reference</th>\n",
       "      <th>active</th>\n",
       "    </tr>\n",
       "  </thead>\n",
       "  <tbody>\n",
       "    <tr>\n",
       "      <th>0</th>\n",
       "      <td>CHEMBL1940</td>\n",
       "      <td>Voltage-gated L-type calcium channel alpha-1C subunit</td>\n",
       "      <td>SINGLE PROTEIN</td>\n",
       "      <td>Homo sapiens</td>\n",
       "      <td>Cat</td>\n",
       "      <td>Heart</td>\n",
       "      <td>H</td>\n",
       "      <td>CHEMBL656260</td>\n",
       "      <td>Inhibition of (-)-[3H]- D-888 binding to L-type calcium channels in kitten heart ventricle membranes</td>\n",
       "      <td>Felis catus</td>\n",
       "      <td>CHEMBL138302</td>\n",
       "      <td>PAA</td>\n",
       "      <td>IC50</td>\n",
       "      <td>=</td>\n",
       "      <td>260</td>\n",
       "      <td>nM</td>\n",
       "      <td>6.59</td>\n",
       "      <td>None</td>\n",
       "      <td>None</td>\n",
       "      <td>NaN</td>\n",
       "      <td>CHEMBL138302</td>\n",
       "      <td>2d</td>\n",
       "      <td>IC50</td>\n",
       "      <td>=</td>\n",
       "      <td>0.26</td>\n",
       "      <td>uM</td>\n",
       "      <td>CHEMBL1127038</td>\n",
       "      <td>8474099</td>\n",
       "      <td>J. Med. Chem., v. 36, p. 439 (1993)</td>\n",
       "      <td>1</td>\n",
       "    </tr>\n",
       "    <tr>\n",
       "      <th>1</th>\n",
       "      <td>CHEMBL1940</td>\n",
       "      <td>Voltage-gated L-type calcium channel alpha-1C subunit</td>\n",
       "      <td>SINGLE PROTEIN</td>\n",
       "      <td>Homo sapiens</td>\n",
       "      <td>Cat</td>\n",
       "      <td>Heart</td>\n",
       "      <td>H</td>\n",
       "      <td>CHEMBL656260</td>\n",
       "      <td>Inhibition of (-)-[3H]- D-888 binding to L-type calcium channels in kitten heart ventricle membranes</td>\n",
       "      <td>Felis catus</td>\n",
       "      <td>CHEMBL138302</td>\n",
       "      <td>PAA</td>\n",
       "      <td>IC50</td>\n",
       "      <td>=</td>\n",
       "      <td>390</td>\n",
       "      <td>nM</td>\n",
       "      <td>6.41</td>\n",
       "      <td>None</td>\n",
       "      <td>None</td>\n",
       "      <td>NaN</td>\n",
       "      <td>CHEMBL138302</td>\n",
       "      <td>2a</td>\n",
       "      <td>IC50</td>\n",
       "      <td>=</td>\n",
       "      <td>0.39</td>\n",
       "      <td>uM</td>\n",
       "      <td>CHEMBL1127038</td>\n",
       "      <td>8474099</td>\n",
       "      <td>J. Med. Chem., v. 36, p. 439 (1993)</td>\n",
       "      <td>1</td>\n",
       "    </tr>\n",
       "  </tbody>\n",
       "</table>"
      ],
      "text/plain": [
       "<IPython.core.display.HTML object>"
      ]
     },
     "execution_count": 15,
     "metadata": {},
     "output_type": "execute_result"
    }
   ],
   "source": [
    "HTML(data.head(2).to_html())"
   ]
  },
  {
   "cell_type": "markdown",
   "metadata": {},
   "source": [
    "Note that those assays for which a tissue cannot be determined end up with NaN in the `tissues` column..."
   ]
  },
  {
   "cell_type": "code",
   "execution_count": 16,
   "metadata": {
    "collapsed": false
   },
   "outputs": [
    {
     "data": {
      "text/plain": [
       "649"
      ]
     },
     "execution_count": 16,
     "metadata": {},
     "output_type": "execute_result"
    }
   ],
   "source": [
    "data['tissue'].isnull().sum()"
   ]
  },
  {
   "cell_type": "code",
   "execution_count": 17,
   "metadata": {
    "collapsed": false
   },
   "outputs": [
    {
     "data": {
      "text/html": [
       "<div style=\"max-height:1000px;max-width:1500px;overflow:auto;\">\n",
       "<table border=\"1\" class=\"dataframe\">\n",
       "  <thead>\n",
       "    <tr style=\"text-align: right;\">\n",
       "      <th></th>\n",
       "      <th>target_chemblid</th>\n",
       "      <th>pref_name</th>\n",
       "      <th>target_type</th>\n",
       "      <th>organism</th>\n",
       "      <th>species</th>\n",
       "      <th>tissue</th>\n",
       "      <th>relationship_type</th>\n",
       "      <th>assay_chemblid</th>\n",
       "      <th>description</th>\n",
       "      <th>assay_organism</th>\n",
       "      <th>parent_cmpd_chemblid</th>\n",
       "      <th>compound_class</th>\n",
       "      <th>standard_type</th>\n",
       "      <th>standard_relation</th>\n",
       "      <th>standard_value</th>\n",
       "      <th>standard_units</th>\n",
       "      <th>pchembl_value</th>\n",
       "      <th>activity_comment</th>\n",
       "      <th>data_validity_comment</th>\n",
       "      <th>potential_duplicate</th>\n",
       "      <th>cmpd_chemblid</th>\n",
       "      <th>compound_key</th>\n",
       "      <th>published_type</th>\n",
       "      <th>published_relation</th>\n",
       "      <th>published_value</th>\n",
       "      <th>published_units</th>\n",
       "      <th>doc_chemblid</th>\n",
       "      <th>pubmed_id</th>\n",
       "      <th>reference</th>\n",
       "      <th>active</th>\n",
       "    </tr>\n",
       "  </thead>\n",
       "  <tbody>\n",
       "    <tr>\n",
       "      <th>336</th>\n",
       "      <td>CHEMBL2830</td>\n",
       "      <td>Voltage-gated L-type calcium channel alpha-1C subunit</td>\n",
       "      <td>SINGLE PROTEIN</td>\n",
       "      <td>Oryctolagus cuniculus</td>\n",
       "      <td>Rabbit</td>\n",
       "      <td>NaN</td>\n",
       "      <td>D</td>\n",
       "      <td>CHEMBL653771</td>\n",
       "      <td>Reduction in amplitude of calcium-dependent slow-response action potential by blocking voltage sensitive calcium channel</td>\n",
       "      <td>Oryctolagus cuniculus</td>\n",
       "      <td>CHEMBL158853</td>\n",
       "      <td>BTZ</td>\n",
       "      <td>IC50</td>\n",
       "      <td>=</td>\n",
       "      <td>140</td>\n",
       "      <td>nM</td>\n",
       "      <td>6.85</td>\n",
       "      <td>None</td>\n",
       "      <td>None</td>\n",
       "      <td>NaN</td>\n",
       "      <td>CHEMBL158853</td>\n",
       "      <td>8</td>\n",
       "      <td>IC50</td>\n",
       "      <td>=</td>\n",
       "      <td>0.14</td>\n",
       "      <td>uM</td>\n",
       "      <td>CHEMBL1123712</td>\n",
       "      <td>2435903</td>\n",
       "      <td>J. Med. Chem., v. 30, p. 635 (1987)</td>\n",
       "      <td>1</td>\n",
       "    </tr>\n",
       "    <tr>\n",
       "      <th>144</th>\n",
       "      <td>CHEMBL4138</td>\n",
       "      <td>Voltage-gated L-type calcium channel alpha-1D subunit</td>\n",
       "      <td>SINGLE PROTEIN</td>\n",
       "      <td>Homo sapiens</td>\n",
       "      <td>Human</td>\n",
       "      <td>NaN</td>\n",
       "      <td>D</td>\n",
       "      <td>CHEMBL3270056</td>\n",
       "      <td>Inhibition of human Cav1.3 channel in human SH-SY5Y cells assessed as 70 mM K+ induced calcium elevation compound treated 15 mins before stimulus by Fluo-4/AM assay</td>\n",
       "      <td>Homo sapiens</td>\n",
       "      <td>CHEMBL193</td>\n",
       "      <td>DHP</td>\n",
       "      <td>IC50</td>\n",
       "      <td>=</td>\n",
       "      <td>1350</td>\n",
       "      <td>nM</td>\n",
       "      <td>5.87</td>\n",
       "      <td>None</td>\n",
       "      <td>None</td>\n",
       "      <td>NaN</td>\n",
       "      <td>CHEMBL193</td>\n",
       "      <td>nifedipine</td>\n",
       "      <td>IC50</td>\n",
       "      <td>=</td>\n",
       "      <td>1.35</td>\n",
       "      <td>uM</td>\n",
       "      <td>CHEMBL3259712</td>\n",
       "      <td>24754640</td>\n",
       "      <td>J. Med. Chem., v. 57, p. 4313 (2014)</td>\n",
       "      <td>1</td>\n",
       "    </tr>\n",
       "  </tbody>\n",
       "</table>\n",
       "</div>"
      ],
      "text/plain": [
       "    target_chemblid                                              pref_name     target_type               organism species tissue relationship_type assay_chemblid                                                                                                                                                           description         assay_organism   ...   cmpd_chemblid compound_key published_type published_relation  published_value published_units   doc_chemblid pubmed_id                             reference  active\n",
       "336      CHEMBL2830  Voltage-gated L-type calcium channel alpha-1C subunit  SINGLE PROTEIN  Oryctolagus cuniculus  Rabbit    NaN                 D   CHEMBL653771                                              Reduction in amplitude of calcium-dependent slow-response action potential by blocking voltage sensitive calcium channel  Oryctolagus cuniculus   ...    CHEMBL158853            8           IC50                  =             0.14              uM  CHEMBL1123712   2435903   J. Med. Chem., v. 30, p. 635 (1987)       1\n",
       "144      CHEMBL4138  Voltage-gated L-type calcium channel alpha-1D subunit  SINGLE PROTEIN           Homo sapiens   Human    NaN                 D  CHEMBL3270056  Inhibition of human Cav1.3 channel in human SH-SY5Y cells assessed as 70 mM K+ induced calcium elevation compound treated 15 mins before stimulus by Fluo-4/AM assay           Homo sapiens   ...       CHEMBL193   nifedipine           IC50                  =             1.35              uM  CHEMBL3259712  24754640  J. Med. Chem., v. 57, p. 4313 (2014)       1\n",
       "\n",
       "[2 rows x 30 columns]"
      ]
     },
     "execution_count": 17,
     "metadata": {},
     "output_type": "execute_result"
    }
   ],
   "source": [
    "data[data['tissue'].isnull()].head(2)"
   ]
  },
  {
   "cell_type": "markdown",
   "metadata": {},
   "source": [
    "This can lead to problems on rendering or export of the data.\n",
    "\n",
    "However, these can be fixed by replacing the NaNs with the empty string..."
   ]
  },
  {
   "cell_type": "code",
   "execution_count": 18,
   "metadata": {
    "collapsed": true
   },
   "outputs": [],
   "source": [
    "data['tissue'].fillna('', inplace=True)"
   ]
  },
  {
   "cell_type": "code",
   "execution_count": 19,
   "metadata": {
    "collapsed": false
   },
   "outputs": [
    {
     "data": {
      "text/plain": [
       "0"
      ]
     },
     "execution_count": 19,
     "metadata": {},
     "output_type": "execute_result"
    }
   ],
   "source": [
    "data['tissue'].isnull().sum()"
   ]
  }
 ],
 "metadata": {
  "kernelspec": {
   "display_name": "Python 2",
   "language": "python",
   "name": "python2"
  },
  "language_info": {
   "codemirror_mode": {
    "name": "ipython",
    "version": 2
   },
   "file_extension": ".py",
   "mimetype": "text/x-python",
   "name": "python",
   "nbconvert_exporter": "python",
   "pygments_lexer": "ipython2",
   "version": "2.7.10"
  }
 },
 "nbformat": 4,
 "nbformat_minor": 0
}
